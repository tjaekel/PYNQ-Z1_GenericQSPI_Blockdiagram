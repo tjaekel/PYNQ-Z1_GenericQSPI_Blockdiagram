{
 "cells": [
  {
   "cell_type": "code",
   "execution_count": null,
   "id": "f1ce7aeb",
   "metadata": {},
   "outputs": [],
   "source": [
    "from pynq import Overlay\n",
    "import pynq.lib.dma"
   ]
  },
  {
   "cell_type": "code",
   "execution_count": null,
   "id": "1294443e",
   "metadata": {},
   "outputs": [],
   "source": [
    "ol = Overlay(\"design_1.bit\")"
   ]
  },
  {
   "cell_type": "code",
   "execution_count": null,
   "id": "066833e4",
   "metadata": {},
   "outputs": [],
   "source": [
    "#until including this cell: run always, even just with CFFI\n",
    "mkl_gpio0 = ol.axi_gpio_0\n",
    "mkl_gpio1 = ol.axi_gpio_1\n",
    "mkl_div = ol.clk_wiz_0"
   ]
  },
  {
   "cell_type": "code",
   "execution_count": null,
   "id": "4c8a1d57",
   "metadata": {},
   "outputs": [],
   "source": [
    "XCLK_CLK_CFG_2 = 0x208\n",
    "XCLK_CLK_CFG_23 = 0x25C\n",
    "\n",
    "XGPIO_DATA0 = 0x0\n",
    "XGPIO_DATA2 = 0x8\n",
    "\n",
    "CLK_DIV = 0x100       #0x000, 0x100, 0x200, ...\n",
    "\n",
    "#it does not speed up, slower!\n",
    "VAL_32BIT_WR  = 0x8000000E | CLK_DIV\n",
    "VAL_32BIT_WRn = 0x0000000E | CLK_DIV\n",
    "VAL_24BIT_WR  = 0x8000001E | CLK_DIV\n",
    "VAL_24BIT_WRn = 0x0000001E | CLK_DIV\n",
    "VAL_TA_WR     = 0x8000002E | CLK_DIV\n",
    "VAL_TA_WRn    = 0x0000002E | CLK_DIV\n",
    "VAL_32BIT_RD  = 0x8000004E | CLK_DIV\n",
    "VAL_32BIT_RDn = 0x0000004E | CLK_DIV\n",
    "\n",
    "TRG_CNT = 0\n",
    "\n",
    "def trigger_cnt(inc):\n",
    "    global TRG_CNT;\n",
    "    if inc :\n",
    "        TRG_CNT = TRG_CNT + 1\n",
    "    return (TRG_CNT & 0x3) << 30\n",
    "    \n",
    "def cnfg0(QSPIio0):\n",
    "    return 0\n",
    "\n",
    "def cnfg1(QSPIio1):\n",
    "    return 0\n",
    "\n",
    "def cnfgdiv(ClkDiv):\n",
    "    ClkDiv.write(XCLK_CLK_CFG_2, 0x10)                  #0x10 = 25 MHz, 0x40 = 6.25 MHz\n",
    "    ClkDiv.write(XCLK_CLK_CFG_23, 0x03)\n",
    "    return 0\n",
    "\n",
    "def QSPI_Write32bit(val):\n",
    "    mkl_gpio0.write(XGPIO_DATA0, val)\n",
    "    mkl_gpio1.write(XGPIO_DATA0, 0x0000010E | trigger_cnt(1))\n",
    "\n",
    "def QSPI_Write32bitLE(val):\n",
    "    mkl_gpio0.write(XGPIO_DATA0, val)\n",
    "    mkl_gpio1.write(XGPIO_DATA0, 0x0000018E | trigger_cnt(1))\n",
    "        \n",
    "def QSPI_Write24bit(val):\n",
    "    mkl_gpio0.write(XGPIO_DATA0, val)\n",
    "    mkl_gpio1.write(XGPIO_DATA0, 0x0000011E | trigger_cnt(1))\n",
    "        \n",
    "def QSPI_TurnAround():\n",
    "    mkl_gpio1.write(XGPIO_DATA0, 0x0000012E | trigger_cnt(1))\n",
    "    \n",
    "def QSPI_Read32bit():\n",
    "    mkl_gpio1.write(XGPIO_DATA0, 0x0000014E | trigger_cnt(1))\n",
    "    s = mkl_gpio0.read(XGPIO_DATA2)\n",
    "    return s\n",
    "\n",
    "def QSPI_Read32bitLE():\n",
    "    mkl_gpio1.write(XGPIO_DATA0, 0x000001CE | trigger_cnt(1))\n",
    "    s = mkl_gpio0.read(XGPIO_DATA2)\n",
    "    return s\n",
    "    \n",
    "def QSPI_Deselect():\n",
    "    global TRG_CNT;\n",
    "    mkl_gpio1.write(XGPIO_DATA0, 0x0040010F | trigger_cnt(0))  #release all nCS signals\n",
    "    TRG_CNT = 0"
   ]
  },
  {
   "cell_type": "code",
   "execution_count": null,
   "id": "b43f8ce0",
   "metadata": {},
   "outputs": [],
   "source": [
    "cnfg0(mkl_gpio0)\n",
    "cnfg1(mkl_gpio1)\n",
    "cnfgdiv(mkl_div)"
   ]
  },
  {
   "cell_type": "code",
   "execution_count": null,
   "id": "7d8827db",
   "metadata": {},
   "outputs": [],
   "source": [
    "QSPI_Deselect()\n",
    "QSPI_Write32bit(0x010100110)\n",
    "QSPI_Write32bit(0x12345670)\n",
    "QSPI_Write24bit(0xABCDEF00)        #is val << 8\n",
    "QSPI_Write32bitLE(0x98765400)      #N-times\n",
    "QSPI_Write32bitLE(0xACBD2013)\n",
    "QSPI_Write32bitLE(0xBCDEF012)\n",
    "QSPI_Deselect()"
   ]
  },
  {
   "cell_type": "code",
   "execution_count": null,
   "id": "d737c83b",
   "metadata": {},
   "outputs": [],
   "source": [
    "QSPI_Write32bit(0x010100110)\n",
    "QSPI_Write32bit(0x12345678)\n",
    "QSPI_Write24bit(0xABCDFE00)        #is val << 8\n",
    "QSPI_TurnAround()\n",
    "v1 = QSPI_Read32bitLE()            #N-times\n",
    "v2 = QSPI_Read32bitLE()\n",
    "v3 = QSPI_Read32bitLE()\n",
    "QSPI_Deselect()\n",
    "print(hex(v1))\n",
    "print(hex(v2))\n",
    "print(hex(v3))"
   ]
  },
  {
   "cell_type": "code",
   "execution_count": null,
   "id": "9fbd6a64",
   "metadata": {},
   "outputs": [],
   "source": [
    "from cffi import FFI\n",
    "import array\n",
    "\n",
    "wrVal = array.array('I', [0xE0, 0x11223344, 0x556677, 0x98765432, 0x12345678, 0x11223344, 0x55667788])\n",
    "\n",
    "ffi = FFI()\n",
    "ffi.cdef(\"\"\"unsigned int C_QSPI_Init(int, int, unsigned int);\n",
    "            unsigned int C_QSPI_Write(unsigned int *, int);\n",
    "            void C_QSPI_Deinit(void);\n",
    "         \"\"\")\n",
    "clib = ffi.dlopen(\"/home/xilinx/c_code/libGeneric_QSPI.so\")\n",
    "i = clib.C_QSPI_Init(2, 0, 0x3F)      #2 is max! = 16.6 MHz if without flow control\n",
    "#print(i)\n",
    "i = clib.C_QSPI_Write(ffi.cast(\"unsigned int *\", ffi.from_buffer(wrVal)), len(wrVal))\n",
    "\n",
    "clib.C_QSPI_Deinit()\n",
    "print(i)"
   ]
  },
  {
   "cell_type": "code",
   "execution_count": null,
   "id": "a05a7ab9",
   "metadata": {
    "scrolled": false
   },
   "outputs": [],
   "source": [
    "from cffi import FFI\n",
    "import array\n",
    "\n",
    "wrVal = array.array('I', [0xE1, 0x11223344, 0x556677])\n",
    "rdVal = array.array('I', [0,0,0,0,0,0,0,0,0,0,0,0,0,0,0,0,0,0,0,0])\n",
    "\n",
    "ffi = FFI()\n",
    "ffi.cdef(\"\"\"unsigned int C_QSPI_Init(int, int, unsigned int);\n",
    "            unsigned int C_QSPI_Read(unsigned int *, unsigned int *, int);\n",
    "            void C_QSPI_Deinit(void);\n",
    "        \"\"\")\n",
    "clib = ffi.dlopen(\"/home/xilinx/c_code/libGeneric_QSPI.so\")\n",
    "i = clib.C_QSPI_Init(3, 0, 0x7F)\n",
    "i = clib.C_QSPI_Read(ffi.cast(\"unsigned int *\", ffi.from_buffer(wrVal)), ffi.cast(\"unsigned int *\", ffi.from_buffer(rdVal)), len(rdVal))\n",
    "clib.C_QSPI_Deinit()\n",
    "print(i)\n",
    "print(rdVal)\n"
   ]
  },
  {
   "cell_type": "code",
   "execution_count": null,
   "id": "6b7eb529",
   "metadata": {},
   "outputs": [],
   "source": [
    "#change the PLL clock for AXI bus and PL - decreases the Rx sample delay!\n",
    "core = pynq.ps.Clocks\n",
    "print(core.cpu_mhz)\n",
    "print(core.fclk0_mhz)\n",
    "core.fclk0_mhz = 333.3\n",
    "print(core.fclk0_mhz)"
   ]
  },
  {
   "cell_type": "code",
   "execution_count": null,
   "id": "f7cad47b",
   "metadata": {},
   "outputs": [],
   "source": [
    "#read INT inputs:\n",
    "s = mkl_gpio1.read(XGPIO_DATA2)\n",
    "print(hex(s))"
   ]
  },
  {
   "cell_type": "code",
   "execution_count": null,
   "id": "3d9a9b42",
   "metadata": {},
   "outputs": [],
   "source": [
    "#GPIO via C-code library:\n",
    "from cffi import FFI\n",
    "\n",
    "ffi = FFI()\n",
    "ffi.cdef(\"\"\"unsigned int C_QSPI_Init(int, int, unsigned int);\n",
    "            void C_GPIO_Out(unsigned int);\n",
    "            unsigned int C_GPIO_In(void);\n",
    "            void C_QSPI_Deinit(void);\n",
    "        \"\"\")\n",
    "clib = ffi.dlopen(\"/home/xilinx/c_code/libGeneric_QSPI.so\")\n",
    "i = clib.C_QSPI_Init(3, 0, 0x7F)\n",
    "clib.C_GPIO_Out(0x35)\n",
    "i = clib.C_GPIO_In()\n",
    "clib.C_QSPI_Deinit()\n",
    "print(i)"
   ]
  },
  {
   "cell_type": "code",
   "execution_count": null,
   "id": "d30afcd0",
   "metadata": {},
   "outputs": [],
   "source": [
    "#I2C test: I2C Extender, all as input\n",
    "from pynq.lib.iic import AxiIIC\n",
    "iic = AxiIIC(ol.ip_dict[\"axi_iic_0\"])\n",
    "wr_data = [0]\n",
    "rd_data = bytes(2)   #it must be bytes()!!\n",
    "iic.send(0x76, wr_data, len(wr_data), 0)\n",
    "iic.receive(0x76, rd_data, 2, 0)\n",
    "print(rd_data)"
   ]
  },
  {
   "cell_type": "code",
   "execution_count": null,
   "id": "420a0a2a",
   "metadata": {},
   "outputs": [],
   "source": [
    "#I2C test: I2C Extender, port as output\n",
    "wr_data = [6, 0x00]\n",
    "iic.send(0x76, wr_data, len(wr_data), 0)\n",
    "wr_data = [0x02, 0xFF]\n",
    "iic.send(0x76, wr_data, len(wr_data), 0)"
   ]
  },
  {
   "cell_type": "code",
   "execution_count": null,
   "id": "608533d4",
   "metadata": {},
   "outputs": [],
   "source": [
    "#test Generic_QSPI.py as LIB:\n",
    "import Generic_QSPI as QSPI\n",
    "import array\n",
    "\n",
    "i = QSPI.QSPIInit()\n",
    "print(i)\n",
    "\n",
    "tr = array.array('I', [0xE0, 0x11223344, 0x556677, 0x98765432, 0x12345678, 0x11223344, 0x55667788])\n",
    "QSPI.SendTransaction(tr, 0)\n",
    "\n",
    "r = QSPI.GPIOin()\n",
    "print(r)\n",
    "QSPI.GPIOout(0x35)\n",
    "\n",
    "tr = array.array('I', [0xE1, 0x11223344, 0x556677])\n",
    "r = QSPI.SendTransaction(tr, 4)\n",
    "print(r)"
   ]
  },
  {
   "cell_type": "code",
   "execution_count": null,
   "id": "75d3401a",
   "metadata": {},
   "outputs": [],
   "source": [
    "#test HCC QSPI Python as LIB:\n",
    "import HCC_QSPI as HCC"
   ]
  },
  {
   "cell_type": "code",
   "execution_count": null,
   "id": "e567dc9e",
   "metadata": {
    "scrolled": true
   },
   "outputs": [],
   "source": [
    "HCC.Main()"
   ]
  },
  {
   "cell_type": "code",
   "execution_count": null,
   "id": "3c32ad7f",
   "metadata": {},
   "outputs": [],
   "source": []
  }
 ],
 "metadata": {
  "kernelspec": {
   "display_name": "Python 3 (ipykernel)",
   "language": "python",
   "name": "python3"
  },
  "language_info": {
   "codemirror_mode": {
    "name": "ipython",
    "version": 3
   },
   "file_extension": ".py",
   "mimetype": "text/x-python",
   "name": "python",
   "nbconvert_exporter": "python",
   "pygments_lexer": "ipython3",
   "version": "3.10.4"
  }
 },
 "nbformat": 4,
 "nbformat_minor": 5
}

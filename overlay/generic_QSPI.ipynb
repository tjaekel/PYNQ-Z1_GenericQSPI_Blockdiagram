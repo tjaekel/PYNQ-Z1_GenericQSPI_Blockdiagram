{
 "cells": [
  {
   "cell_type": "code",
   "execution_count": 1,
   "id": "f1ce7aeb",
   "metadata": {},
   "outputs": [
    {
     "data": {
      "application/javascript": [
       "\n",
       "try {\n",
       "require(['notebook/js/codecell'], function(codecell) {\n",
       "  codecell.CodeCell.options_default.highlight_modes[\n",
       "      'magic_text/x-csrc'] = {'reg':[/^%%microblaze/]};\n",
       "  Jupyter.notebook.events.one('kernel_ready.Kernel', function(){\n",
       "      Jupyter.notebook.get_cells().map(function(cell){\n",
       "          if (cell.cell_type == 'code'){ cell.auto_highlight(); } }) ;\n",
       "  });\n",
       "});\n",
       "} catch (e) {};\n"
      ]
     },
     "metadata": {},
     "output_type": "display_data"
    },
    {
     "data": {
      "application/javascript": [
       "\n",
       "try {\n",
       "require(['notebook/js/codecell'], function(codecell) {\n",
       "  codecell.CodeCell.options_default.highlight_modes[\n",
       "      'magic_text/x-csrc'] = {'reg':[/^%%pybind11/]};\n",
       "  Jupyter.notebook.events.one('kernel_ready.Kernel', function(){\n",
       "      Jupyter.notebook.get_cells().map(function(cell){\n",
       "          if (cell.cell_type == 'code'){ cell.auto_highlight(); } }) ;\n",
       "  });\n",
       "});\n",
       "} catch (e) {};\n"
      ]
     },
     "metadata": {},
     "output_type": "display_data"
    }
   ],
   "source": [
    "from pynq import Overlay\n",
    "import pynq.lib.dma\n",
    "import time"
   ]
  },
  {
   "cell_type": "code",
   "execution_count": 2,
   "id": "1294443e",
   "metadata": {},
   "outputs": [],
   "source": [
    "ol = Overlay(\"design_1.bit\")"
   ]
  },
  {
   "cell_type": "code",
   "execution_count": 3,
   "id": "066833e4",
   "metadata": {},
   "outputs": [],
   "source": [
    "#until including this cell: run always, even just with CFFI\n",
    "mkl_gpio0 = ol.axi_gpio_0\n",
    "mkl_gpio1 = ol.axi_gpio_1\n",
    "mkl_div = ol.clk_wiz_0"
   ]
  },
  {
   "cell_type": "code",
   "execution_count": 9,
   "id": "4c8a1d57",
   "metadata": {},
   "outputs": [],
   "source": [
    "XCLK_CLK_CFG_2 = 0x208\n",
    "XCLK_CLK_CFG_23 = 0x25C\n",
    "\n",
    "XGPIO_DATA0 = 0x0\n",
    "XGPIO_DATA2 = 0x8\n",
    "\n",
    "CLK_DIV = 0x100       #0x000, 0x100, 0x200, ...\n",
    "\n",
    "#it does not speed up, slower!\n",
    "VAL_32BIT_WR  = 0x8000000E | CLK_DIV\n",
    "VAL_32BIT_WRn = 0x0000000E | CLK_DIV\n",
    "VAL_24BIT_WR  = 0x8000001E | CLK_DIV\n",
    "VAL_24BIT_WRn = 0x0000001E | CLK_DIV\n",
    "VAL_TA_WR     = 0x8000002E | CLK_DIV\n",
    "VAL_TA_WRn    = 0x0000002E | CLK_DIV\n",
    "VAL_32BIT_RD  = 0x8000004E | CLK_DIV\n",
    "VAL_32BIT_RDn = 0x0000004E | CLK_DIV\n",
    "\n",
    "TRG_CNT = 0\n",
    "\n",
    "def trigger_cnt(inc):\n",
    "    global TRG_CNT;\n",
    "    if inc :\n",
    "        TRG_CNT = TRG_CNT + 1\n",
    "    return (TRG_CNT & 0x3) << 30\n",
    "    \n",
    "def cnfg0(QSPIio0):\n",
    "    return 0\n",
    "\n",
    "def cnfg1(QSPIio1):\n",
    "    return 0\n",
    "\n",
    "def cnfgdiv(ClkDiv):\n",
    "    ClkDiv.write(XCLK_CLK_CFG_2, 0x10)                  #0x10 = 25 MHz, 0x40 = 6.25 MHz\n",
    "    ClkDiv.write(XCLK_CLK_CFG_23, 0x03)\n",
    "    return 0\n",
    "\n",
    "def QSPI_Write32bit(val):\n",
    "    mkl_gpio0.write(XGPIO_DATA0, val)\n",
    "    ####mkl_gpio1.write(XGPIO_DATA0, VAL_32BIT_WR)          #start trigger, set nCS active low\n",
    "    mkl_gpio1.write(XGPIO_DATA0, 0x0000010E | trigger_cnt(1))\n",
    "    ##s = 0\n",
    "    ##while s == 0:                                     #wait for start trigger done (bit 31 = 1)\n",
    "    ##    s = mkl_gpio1.read(XGPIO_DATA2)\n",
    "    ##    print(hex(s))\n",
    "    ####mkl_gpio1.write(XGPIO_DATA0, VAL_32BIT_WRn)         #do no the 32bit transaction (release trigger)\n",
    "    ##s = 0\n",
    "    ##while s == 0:                                     #wait for shift done (bit 0 = 1)\n",
    "    ##    s = mkl_gpio1.read(XGPIO_DATA2)\n",
    "    ##    print(hex(s))\n",
    "    ##s = mkl_gpio0.read(XGPIO_DATA2)\n",
    "    ##print(hex(s))\n",
    "\n",
    "def QSPI_Write32bitLE(val):\n",
    "    mkl_gpio0.write(XGPIO_DATA0, val)\n",
    "    ####mkl_gpio1.write(XGPIO_DATA0, VAL_32BIT_WR)          #start trigger, set nCS active low\n",
    "    mkl_gpio1.write(XGPIO_DATA0, 0x0000018E | trigger_cnt(1))\n",
    "    ##s = 0\n",
    "    ##while s == 0:                                     #wait for start trigger done (bit 31 = 1)\n",
    "    ##    s = mkl_gpio1.read(XGPIO_DATA2)\n",
    "    ##    print(hex(s))\n",
    "    ####mkl_gpio1.write(XGPIO_DATA0, VAL_32BIT_WRn)         #do no the 32bit transaction (release trigger)\n",
    "    ##s = 0\n",
    "    ##while s == 0:                                     #wait for shift done (bit 0 = 1)\n",
    "    ##    s = mkl_gpio1.read(XGPIO_DATA2)\n",
    "    ##    print(hex(s))\n",
    "    ##s = mkl_gpio0.read(XGPIO_DATA2)\n",
    "    ##print(hex(s))\n",
    "        \n",
    "def QSPI_Write24bit(val):\n",
    "    mkl_gpio0.write(XGPIO_DATA0, val)\n",
    "    ####mkl_gpio1.write(XGPIO_DATA0, VAL_24BIT_WR)  #set bit for 24bit word to send\n",
    "    mkl_gpio1.write(XGPIO_DATA0, 0x0000011E | trigger_cnt(1))\n",
    "    ##s = 0\n",
    "    ##while s == 0:\n",
    "    ##    s = mkl_gpio1.read(XGPIO_DATA2)\n",
    "    ##    print(hex(s))\n",
    "    ####mkl_gpio1.write(XGPIO_DATA0, VAL_24BIT_WRn)\n",
    "    ##s = 0\n",
    "    ##while s == 0:\n",
    "    ##    s = mkl_gpio1.read(XGPIO_DATA2)\n",
    "    ##    print(hex(s))\n",
    "    ##s = mkl_gpio0.read(XGPIO_DATA2)\n",
    "    ##print(hex(s))\n",
    "        \n",
    "def QSPI_TurnAround():\n",
    "    ####mkl_gpio1.write(XGPIO_DATA0, VAL_TA_WR)   #set bit for 2bit turnaround\n",
    "    mkl_gpio1.write(XGPIO_DATA0, 0x0000012E | trigger_cnt(1))\n",
    "    ##s = 0\n",
    "    ##while s == 0:\n",
    "    ##    s = mkl_gpio1.read(XGPIO_DATA2)\n",
    "    ##    print(hex(s))\n",
    "    ####mkl_gpio1.write(XGPIO_DATA0, VAL_TA_WRn)\n",
    "    ##s = 0\n",
    "    ##while s == 0:\n",
    "    ##    s = mkl_gpio1.read(XGPIO_DATA2)\n",
    "    ##    print(hex(s))\n",
    "    ##s = mkl_gpio0.read(XGPIO_DATA2)\n",
    "    ##print(hex(s))\n",
    "    \n",
    "def QSPI_Read32bit():\n",
    "    ####mkl_gpio1.write(XGPIO_DATA0, VAL_32BIT_RD)  #trigger a new read cycle\n",
    "    mkl_gpio1.write(XGPIO_DATA0, 0x0000014E | trigger_cnt(1))\n",
    "    ##s = 0\n",
    "    ##while s == 0:\n",
    "    ##    s = mkl_gpio1.read(XGPIO_DATA2)\n",
    "    ##    print(hex(s))\n",
    "    ####mkl_gpio1.write(XGPIO_DATA0, VAL_32BIT_RDn)\n",
    "    #s = 0\n",
    "    #while s == 0:\n",
    "    #    s = mkl_gpio1.read(XGPIO_DATA2)\n",
    "        ##print(hex(s))\n",
    "    s = mkl_gpio0.read(XGPIO_DATA2)\n",
    "    return s\n",
    "\n",
    "def QSPI_Read32bitLE():\n",
    "    ####mkl_gpio1.write(XGPIO_DATA0, VAL_32BIT_RD)  #trigger a new read cycle\n",
    "    mkl_gpio1.write(XGPIO_DATA0, 0x000001CE | trigger_cnt(1))\n",
    "    ##s = 0\n",
    "    ##while s == 0:\n",
    "    ##    s = mkl_gpio1.read(XGPIO_DATA2)\n",
    "    ##    print(hex(s))\n",
    "    ####mkl_gpio1.write(XGPIO_DATA0, VAL_32BIT_RDn)\n",
    "    #s = 0\n",
    "    #while s == 0:\n",
    "    #    s = mkl_gpio1.read(XGPIO_DATA2)\n",
    "        ##print(hex(s))\n",
    "    s = mkl_gpio0.read(XGPIO_DATA2)\n",
    "    return s\n",
    "    \n",
    "def QSPI_Deselect():\n",
    "    global TRG_CNT;\n",
    "    mkl_gpio1.write(XGPIO_DATA0, 0x0000010F | trigger_cnt(0))  #release all nCS signals\n",
    "    TRG_CNT = 0\n",
    "    "
   ]
  },
  {
   "cell_type": "code",
   "execution_count": 5,
   "id": "b43f8ce0",
   "metadata": {},
   "outputs": [
    {
     "data": {
      "text/plain": [
       "0"
      ]
     },
     "execution_count": 5,
     "metadata": {},
     "output_type": "execute_result"
    }
   ],
   "source": [
    "cnfg0(mkl_gpio0)\n",
    "cnfg1(mkl_gpio1)\n",
    "cnfgdiv(mkl_div)"
   ]
  },
  {
   "cell_type": "code",
   "execution_count": 6,
   "id": "7d8827db",
   "metadata": {},
   "outputs": [],
   "source": [
    "QSPI_Deselect()\n",
    "QSPI_Write32bit(0x010100110)\n",
    "QSPI_Write32bit(0x12345670)\n",
    "QSPI_Write24bit(0xABCDEF00)        #is val << 8\n",
    "QSPI_Write32bitLE(0x98765400)      #N-times\n",
    "QSPI_Write32bitLE(0xACBD2013)\n",
    "QSPI_Write32bitLE(0xBCDEF012)\n",
    "QSPI_Deselect()"
   ]
  },
  {
   "cell_type": "code",
   "execution_count": null,
   "id": "d737c83b",
   "metadata": {},
   "outputs": [],
   "source": [
    "QSPI_Write32bit(0x010100110)\n",
    "QSPI_Write32bit(0x12345678)\n",
    "QSPI_Write24bit(0xABCDFE00)        #is val << 8\n",
    "QSPI_TurnAround()\n",
    "v1 = QSPI_Read32bitLE()            #N-times\n",
    "v2 = QSPI_Read32bitLE()\n",
    "v3 = QSPI_Read32bitLE()\n",
    "QSPI_Deselect()\n",
    "print(hex(v1))\n",
    "print(hex(v2))\n",
    "print(hex(v3))"
   ]
  },
  {
   "cell_type": "code",
   "execution_count": 10,
   "id": "9fbd6a64",
   "metadata": {},
   "outputs": [
    {
     "name": "stdout",
     "output_type": "stream",
     "text": [
      "1\n"
     ]
    }
   ],
   "source": [
    "from cffi import FFI\n",
    "import array\n",
    "\n",
    "wrVal = array.array('I', [0x01011100, 0x11223344, 0x55667700, 0x98765432, 0x12345678, 0x11223344, 0x55667788])\n",
    "#ALT is <<8, 24bit\n",
    "\n",
    "ffi = FFI()\n",
    "ffi.cdef(\"\"\"unsigned int C_QSPI_Init(int);\n",
    "            unsigned int C_QSPI_Write(unsigned int *, unsigned int);\n",
    "            void C_QSPI_Deinit(void);\n",
    "         \"\"\")\n",
    "clib = ffi.dlopen(\"/home/xilinx/c_code/libGeneric_QSPI.so\")\n",
    "i = clib.C_QSPI_Init(2)      #3 is max! = 11.111 MHz, 0 = 33.3333 MHz, 1 = 20 MHz\n",
    "#print(i)\n",
    "i = clib.C_QSPI_Write(ffi.cast(\"unsigned int *\", ffi.from_buffer(wrVal)), len(wrVal))\n",
    "\n",
    "clib.C_QSPI_Deinit()\n",
    "print(i)"
   ]
  },
  {
   "cell_type": "code",
   "execution_count": null,
   "id": "a05a7ab9",
   "metadata": {
    "scrolled": false
   },
   "outputs": [],
   "source": [
    "from cffi import FFI\n",
    "import array\n",
    "\n",
    "wrVal = array.array('I', [0x01011100, 0x11223344, 0x55667700])   #ALT is <<8, 24bit\n",
    "rdVal = array.array('I', [0,0,0,0,0,0,0,0,0,0,0,0,0,0,0,0,0,0,0,0])\n",
    "\n",
    "ffi = FFI()\n",
    "ffi.cdef(\"\"\"unsigned int C_QSPI_Init(int);\n",
    "            unsigned int C_QSPI_Read(unsigned int *, unsigned int *, unsigned int);\n",
    "            void C_QSPI_Deinit(void);\n",
    "        \"\"\")\n",
    "clib = ffi.dlopen(\"/home/xilinx/c_code/libGeneric_QSPI.so\")\n",
    "i = clib.C_QSPI_Init(4)      #2 is max! = 16.667 MHz, 0 = 50 MHz - without flow control!\n",
    "#16.667MHz is the maximum continous QSPI speed for our throughput on QSPI\n",
    "#print(i)\n",
    "i = clib.C_QSPI_Read(ffi.cast(\"unsigned int *\", ffi.from_buffer(wrVal)), ffi.cast(\"unsigned int *\", ffi.from_buffer(rdVal)), len(rdVal))\n",
    "clib.C_QSPI_Deinit()\n",
    "print(i)\n",
    "print(rdVal)\n"
   ]
  },
  {
   "cell_type": "code",
   "execution_count": null,
   "id": "6b7eb529",
   "metadata": {},
   "outputs": [],
   "source": [
    "#change the PLL clock for AXI bus and PL - decreases the Rx sample delay!\n",
    "core = pynq.ps.Clocks\n",
    "print(core.cpu_mhz)\n",
    "print(core.fclk0_mhz)\n",
    "core.fclk0_mhz = 333.3\n",
    "print(core.fclk0_mhz)"
   ]
  },
  {
   "cell_type": "code",
   "execution_count": null,
   "id": "f7cad47b",
   "metadata": {},
   "outputs": [],
   "source": []
  }
 ],
 "metadata": {
  "kernelspec": {
   "display_name": "Python 3 (ipykernel)",
   "language": "python",
   "name": "python3"
  },
  "language_info": {
   "codemirror_mode": {
    "name": "ipython",
    "version": 3
   },
   "file_extension": ".py",
   "mimetype": "text/x-python",
   "name": "python",
   "nbconvert_exporter": "python",
   "pygments_lexer": "ipython3",
   "version": "3.10.4"
  }
 },
 "nbformat": 4,
 "nbformat_minor": 5
}

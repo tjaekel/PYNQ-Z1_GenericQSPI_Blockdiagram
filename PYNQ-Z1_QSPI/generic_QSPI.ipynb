{
 "cells": [
  {
   "cell_type": "code",
   "execution_count": 1,
   "id": "f1ce7aeb",
   "metadata": {},
   "outputs": [],
   "source": [
    "from pynq import Overlay\n",
    "import time"
   ]
  },
  {
   "cell_type": "code",
   "execution_count": 2,
   "id": "1294443e",
   "metadata": {},
   "outputs": [
    {
     "data": {
      "application/javascript": [
       "\n",
       "try {\n",
       "require(['notebook/js/codecell'], function(codecell) {\n",
       "  codecell.CodeCell.options_default.highlight_modes[\n",
       "      'magic_text/x-csrc'] = {'reg':[/^%%microblaze/]};\n",
       "  Jupyter.notebook.events.one('kernel_ready.Kernel', function(){\n",
       "      Jupyter.notebook.get_cells().map(function(cell){\n",
       "          if (cell.cell_type == 'code'){ cell.auto_highlight(); } }) ;\n",
       "  });\n",
       "});\n",
       "} catch (e) {};\n"
      ]
     },
     "metadata": {},
     "output_type": "display_data"
    },
    {
     "data": {
      "application/javascript": [
       "\n",
       "try {\n",
       "require(['notebook/js/codecell'], function(codecell) {\n",
       "  codecell.CodeCell.options_default.highlight_modes[\n",
       "      'magic_text/x-csrc'] = {'reg':[/^%%pybind11/]};\n",
       "  Jupyter.notebook.events.one('kernel_ready.Kernel', function(){\n",
       "      Jupyter.notebook.get_cells().map(function(cell){\n",
       "          if (cell.cell_type == 'code'){ cell.auto_highlight(); } }) ;\n",
       "  });\n",
       "});\n",
       "} catch (e) {};\n"
      ]
     },
     "metadata": {},
     "output_type": "display_data"
    }
   ],
   "source": [
    "ol = Overlay(\"design_1.bit\")"
   ]
  },
  {
   "cell_type": "code",
   "execution_count": 3,
   "id": "066833e4",
   "metadata": {},
   "outputs": [],
   "source": [
    "mkl_gpio0 = ol.axi_gpio_0\n",
    "mkl_gpio1 = ol.axi_gpio_1\n",
    "mkl_div = ol.clk_wiz_0"
   ]
  },
  {
   "cell_type": "code",
   "execution_count": 4,
   "id": "4c8a1d57",
   "metadata": {},
   "outputs": [],
   "source": [
    "XCLK_CLK_CFG_2 = 0x208\n",
    "XCLK_CLK_CFG_23 = 0x25C\n",
    "\n",
    "XGPIO_DATA0 = 0x0\n",
    "XGPIO_DATA2 = 0x8\n",
    "\n",
    "def cnfg0(QSPIio0):\n",
    "    return 0\n",
    "\n",
    "def cnfg1(QSPIio1):\n",
    "    return 0\n",
    "\n",
    "def cnfgdiv(ClkDiv):\n",
    "    ClkDiv.write(XCLK_CLK_CFG_2, 0x40)                  #0x10 = 25 MHz, 0x40 = 6.25 MHz\n",
    "    ClkDiv.write(XCLK_CLK_CFG_23, 0x03)\n",
    "    return 0\n",
    "\n",
    "def QSPI_Write32bit(val):\n",
    "    mkl_gpio0.write(XGPIO_DATA0, val)\n",
    "    mkl_gpio1.write(XGPIO_DATA0, 0x8000000E)            #start trigger, set nCS active low\n",
    "    ##s = 0\n",
    "    ##while s == 0:                                       #wait for start trigger done (bit 31 = 1)\n",
    "    ##    s = mkl_gpio1.read(XGPIO_DATA2)\n",
    "    ##    print(hex(s))\n",
    "    mkl_gpio1.write(XGPIO_DATA0, 0x0000000E)            #do no the 32bit transaction (release trigger)\n",
    "    ##s = 0\n",
    "    ##while s == 0:                                       #wait for shift done (bit 0 = 1)\n",
    "    ##    s = mkl_gpio1.read(XGPIO_DATA2)\n",
    "    ##    print(hex(s))\n",
    "    ##s = mkl_gpio0.read(XGPIO_DATA2)\n",
    "    ##print(hex(s))\n",
    "        \n",
    "def QSPI_Write24bit(val):\n",
    "    mkl_gpio0.write(XGPIO_DATA0, val)\n",
    "    mkl_gpio1.write(XGPIO_DATA0, 0x8000001E)            #set bit for 24bit word to send\n",
    "    ##s = 0\n",
    "    ##while s == 0:\n",
    "    ##    s = mkl_gpio1.read(XGPIO_DATA2)\n",
    "    ##    print(hex(s))\n",
    "    mkl_gpio1.write(XGPIO_DATA0, 0x0000001E)\n",
    "    ##s = 0\n",
    "    ##while s == 0:\n",
    "    ##    s = mkl_gpio1.read(XGPIO_DATA2)\n",
    "    ##    print(hex(s))\n",
    "    ##s = mkl_gpio0.read(XGPIO_DATA2)\n",
    "    ##print(hex(s))\n",
    "        \n",
    "def QSPI_TurnAround():\n",
    "    mkl_gpio1.write(XGPIO_DATA0, 0x8000002E)            #set bit for 2bit turnaround\n",
    "    ##s = 0\n",
    "    ##while s == 0:\n",
    "    ##    s = mkl_gpio1.read(XGPIO_DATA2)\n",
    "    ##    print(hex(s))\n",
    "    mkl_gpio1.write(XGPIO_DATA0, 0x0000002E)\n",
    "    ##s = 0\n",
    "    ##while s == 0:\n",
    "    ##    s = mkl_gpio1.read(XGPIO_DATA2)\n",
    "    ##    print(hex(s))\n",
    "    ##s = mkl_gpio0.read(XGPIO_DATA2)\n",
    "    ##print(hex(s))\n",
    "    \n",
    "def QSPI_Read32bit():\n",
    "    mkl_gpio1.write(XGPIO_DATA0, 0x8000004E)            #set bit for 2bit turnaround\n",
    "    ##s = 0\n",
    "    ##while s == 0:\n",
    "    ##    s = mkl_gpio1.read(XGPIO_DATA2)\n",
    "    ##    print(hex(s))\n",
    "    mkl_gpio1.write(XGPIO_DATA0, 0x0000004E)\n",
    "    #s = 0\n",
    "    #while s == 0:\n",
    "    #    s = mkl_gpio1.read(XGPIO_DATA2)\n",
    "        ##print(hex(s))\n",
    "    s = mkl_gpio0.read(XGPIO_DATA2)\n",
    "    return s\n",
    "    \n",
    "def QSPI_Deselect():\n",
    "    mkl_gpio1.write(XGPIO_DATA0, 0x0000000F)            #release all nCS signals\n",
    "    "
   ]
  },
  {
   "cell_type": "code",
   "execution_count": 5,
   "id": "b43f8ce0",
   "metadata": {},
   "outputs": [
    {
     "data": {
      "text/plain": [
       "0"
      ]
     },
     "execution_count": 5,
     "metadata": {},
     "output_type": "execute_result"
    }
   ],
   "source": [
    "cnfg0(mkl_gpio0)\n",
    "cnfg1(mkl_gpio1)\n",
    "cnfgdiv(mkl_div)"
   ]
  },
  {
   "cell_type": "code",
   "execution_count": 8,
   "id": "7d8827db",
   "metadata": {},
   "outputs": [],
   "source": [
    "QSPI_Write32bit(0x010100110)\n",
    "QSPI_Write32bit(0x12345678)\n",
    "QSPI_Write24bit(0xABCDEF00)      #is val << 8\n",
    "QSPI_Write32bit(0x98765432)      #N-times\n",
    "QSPI_Write32bit(0xACBD2013)\n",
    "QSPI_Deselect()"
   ]
  },
  {
   "cell_type": "code",
   "execution_count": 9,
   "id": "d737c83b",
   "metadata": {},
   "outputs": [
    {
     "name": "stdout",
     "output_type": "stream",
     "text": [
      "0x11111111\n",
      "0x11111111\n"
     ]
    }
   ],
   "source": [
    "QSPI_Write32bit(0x010100110)\n",
    "QSPI_Write32bit(0x12345678)\n",
    "QSPI_Write24bit(0xABCDFE00)      #is val << 8\n",
    "QSPI_TurnAround()\n",
    "v1 = QSPI_Read32bit()            #N-times\n",
    "v2 = QSPI_Read32bit()\n",
    "QSPI_Deselect()\n",
    "print(hex(v1))\n",
    "print(hex(v2))"
   ]
  },
  {
   "cell_type": "code",
   "execution_count": null,
   "id": "a6e84c34",
   "metadata": {},
   "outputs": [],
   "source": []
  }
 ],
 "metadata": {
  "kernelspec": {
   "display_name": "Python 3 (ipykernel)",
   "language": "python",
   "name": "python3"
  },
  "language_info": {
   "codemirror_mode": {
    "name": "ipython",
    "version": 3
   },
   "file_extension": ".py",
   "mimetype": "text/x-python",
   "name": "python",
   "nbconvert_exporter": "python",
   "pygments_lexer": "ipython3",
   "version": "3.10.4"
  }
 },
 "nbformat": 4,
 "nbformat_minor": 5
}
